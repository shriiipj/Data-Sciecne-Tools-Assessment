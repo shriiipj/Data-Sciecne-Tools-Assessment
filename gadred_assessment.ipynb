{
 "cells": [
  {
   "cell_type": "markdown",
   "id": "5de1c997",
   "metadata": {},
   "source": [
    "NOTEBOOK"
   ]
  },
  {
   "cell_type": "markdown",
   "id": "12655cf1",
   "metadata": {},
   "source": [
    "INTRODUCTION"
   ]
  },
  {
   "cell_type": "markdown",
   "id": "a22bd91c",
   "metadata": {},
   "source": [
    "DATA SCIENCE LANGUAGES\n",
    "\n",
    "Python\n",
    "R\n",
    "SQL\n",
    "C++\n",
    "C\n",
    "\n"
   ]
  },
  {
   "cell_type": "markdown",
   "id": "439ddbb5",
   "metadata": {},
   "source": [
    "DATA SCIENCE LIBRARIES\n",
    "\n",
    "Pandas\n",
    "Numpy\n",
    "pyTorch\n",
    "ggplot\n",
    "matplotlib\n",
    "sci-kit\n",
    "skilearn\n"
   ]
  },
  {
   "cell_type": "markdown",
   "id": "e4c91f18",
   "metadata": {},
   "source": [
    "DATA SCIENCE TOOLS\n",
    "\n",
    "Jupyter notebook\n",
    "Rlanguage and Rstudio\n",
    "IBM watson studio\n",
    "Anaconda\n",
    "MYSQL\n",
    "Hadoop\n",
    "git and github"
   ]
  },
  {
   "cell_type": "markdown",
   "id": "5f093af5",
   "metadata": {},
   "source": [
    "ARITHMETIC EXPRESSION EXAMPLES\n",
    "\n",
    "(25+7)*2\n",
    "(10-2)/4\n",
    "((6*4)/8)-5\n"
   ]
  },
  {
   "cell_type": "code",
   "execution_count": 1,
   "id": "d7593d76",
   "metadata": {},
   "outputs": [
    {
     "data": {
      "text/plain": [
       "65"
      ]
     },
     "execution_count": 1,
     "metadata": {},
     "output_type": "execute_result"
    }
   ],
   "source": [
    "#multiply and addition of numbers\n",
    "(10*4)+25"
   ]
  },
  {
   "cell_type": "code",
   "execution_count": 3,
   "id": "6f4561e8",
   "metadata": {},
   "outputs": [
    {
     "name": "stdout",
     "output_type": "stream",
     "text": [
      "Enter Hours: 2\n",
      "120 min\n"
     ]
    }
   ],
   "source": [
    "#converting minutes to hours\n",
    "hrs = int(input(\"Enter Hours: \"))\n",
    "hrs_in_min = 60 * hrs\n",
    "print(hrs_in_min,\"min\")"
   ]
  },
  {
   "cell_type": "markdown",
   "id": "d121a84f",
   "metadata": {},
   "source": [
    "OBJECTIVES\n",
    "\n"
   ]
  },
  {
   "cell_type": "markdown",
   "id": "c8192da9",
   "metadata": {},
   "source": [
    "AUTHOR NAME - Murtaz Haider"
   ]
  }
 ],
 "metadata": {
  "kernelspec": {
   "display_name": "Python 3 (ipykernel)",
   "language": "python",
   "name": "python3"
  },
  "language_info": {
   "codemirror_mode": {
    "name": "ipython",
    "version": 3
   },
   "file_extension": ".py",
   "mimetype": "text/x-python",
   "name": "python",
   "nbconvert_exporter": "python",
   "pygments_lexer": "ipython3",
   "version": "3.10.9"
  }
 },
 "nbformat": 4,
 "nbformat_minor": 5
}
